{
 "cells": [
  {
   "cell_type": "code",
   "execution_count": null,
   "id": "7e1a32d5",
   "metadata": {},
   "outputs": [],
   "source": [
    "# Import the recursive Fibonacci function from fib.py\n",
    "from fib import fib"
   ]
  },
  {
   "cell_type": "code",
   "execution_count": null,
   "id": "c74b0f61",
   "metadata": {},
   "outputs": [
    {
     "data": {
      "text/plain": [
       "55"
      ]
     },
     "execution_count": 2,
     "metadata": {},
     "output_type": "execute_result"
    }
   ],
   "source": [
    "# Compute the 10th Fibonacci number using the imported function\n",
    "result_10: int = fib(10)\n",
    "result_10"
   ]
  },
  {
   "cell_type": "code",
   "execution_count": null,
   "id": "20d9031d",
   "metadata": {},
   "outputs": [
    {
     "data": {
      "text/plain": [
       "9227465"
      ]
     },
     "execution_count": 3,
     "metadata": {},
     "output_type": "execute_result"
    }
   ],
   "source": [
    "# Compute the 35th Fibonacci number (demonstrates slowness of recursion for large n)\n",
    "result_35: int = fib(35)\n",
    "result_35"
   ]
  },
  {
   "cell_type": "code",
   "execution_count": null,
   "id": "686ba1b9",
   "metadata": {},
   "outputs": [
    {
     "ename": "KeyboardInterrupt",
     "evalue": "",
     "output_type": "error",
     "traceback": [
      "\u001b[31m---------------------------------------------------------------------------\u001b[39m",
      "\u001b[31mKeyboardInterrupt\u001b[39m                         Traceback (most recent call last)",
      "\u001b[36mCell\u001b[39m\u001b[36m \u001b[39m\u001b[32mIn[4]\u001b[39m\u001b[32m, line 1\u001b[39m\n\u001b[32m----> \u001b[39m\u001b[32m1\u001b[39m \u001b[43mfib\u001b[49m\u001b[43m(\u001b[49m\u001b[32;43m100\u001b[39;49m\u001b[43m)\u001b[49m\n",
      "\u001b[36mFile \u001b[39m\u001b[32m~/Documents/python_concurrency/python_concurrency/fib.py:5\u001b[39m, in \u001b[36mfib\u001b[39m\u001b[34m(n)\u001b[39m\n\u001b[32m      3\u001b[39m     \u001b[38;5;28;01mreturn\u001b[39;00m \u001b[32m1\u001b[39m\n\u001b[32m      4\u001b[39m \u001b[38;5;28;01melse\u001b[39;00m:\n\u001b[32m----> \u001b[39m\u001b[32m5\u001b[39m     \u001b[38;5;28;01mreturn\u001b[39;00m \u001b[43mfib\u001b[49m\u001b[43m(\u001b[49m\u001b[43mn\u001b[49m\u001b[43m-\u001b[49m\u001b[32;43m1\u001b[39;49m\u001b[43m)\u001b[49m + fib(n-\u001b[32m2\u001b[39m)\n",
      "\u001b[36mFile \u001b[39m\u001b[32m~/Documents/python_concurrency/python_concurrency/fib.py:5\u001b[39m, in \u001b[36mfib\u001b[39m\u001b[34m(n)\u001b[39m\n\u001b[32m      3\u001b[39m     \u001b[38;5;28;01mreturn\u001b[39;00m \u001b[32m1\u001b[39m\n\u001b[32m      4\u001b[39m \u001b[38;5;28;01melse\u001b[39;00m:\n\u001b[32m----> \u001b[39m\u001b[32m5\u001b[39m     \u001b[38;5;28;01mreturn\u001b[39;00m \u001b[43mfib\u001b[49m\u001b[43m(\u001b[49m\u001b[43mn\u001b[49m\u001b[43m-\u001b[49m\u001b[32;43m1\u001b[39;49m\u001b[43m)\u001b[49m + fib(n-\u001b[32m2\u001b[39m)\n",
      "    \u001b[31m[... skipping similar frames: fib at line 5 (78 times)]\u001b[39m\n",
      "\u001b[36mFile \u001b[39m\u001b[32m~/Documents/python_concurrency/python_concurrency/fib.py:5\u001b[39m, in \u001b[36mfib\u001b[39m\u001b[34m(n)\u001b[39m\n\u001b[32m      3\u001b[39m     \u001b[38;5;28;01mreturn\u001b[39;00m \u001b[32m1\u001b[39m\n\u001b[32m      4\u001b[39m \u001b[38;5;28;01melse\u001b[39;00m:\n\u001b[32m----> \u001b[39m\u001b[32m5\u001b[39m     \u001b[38;5;28;01mreturn\u001b[39;00m fib(n-\u001b[32m1\u001b[39m) + \u001b[43mfib\u001b[49m\u001b[43m(\u001b[49m\u001b[43mn\u001b[49m\u001b[43m-\u001b[49m\u001b[32;43m2\u001b[39;49m\u001b[43m)\u001b[49m\n",
      "\u001b[36mFile \u001b[39m\u001b[32m~/Documents/python_concurrency/python_concurrency/fib.py:1\u001b[39m, in \u001b[36mfib\u001b[39m\u001b[34m(n)\u001b[39m\n\u001b[32m----> \u001b[39m\u001b[32m1\u001b[39m \u001b[38;5;28;01mdef\u001b[39;00m\u001b[38;5;250m \u001b[39m\u001b[34mfib\u001b[39m(n):\n\u001b[32m      2\u001b[39m     \u001b[38;5;28;01mif\u001b[39;00m n <= \u001b[32m2\u001b[39m:\n\u001b[32m      3\u001b[39m         \u001b[38;5;28;01mreturn\u001b[39;00m \u001b[32m1\u001b[39m\n",
      "\u001b[31mKeyboardInterrupt\u001b[39m: "
     ]
    }
   ],
   "source": [
    "# Attempt to compute the 100th Fibonacci number (will be extremely slow and may cause a RecursionError)\n",
    "# This demonstrates the inefficiency of naive recursion for large inputs.\n",
    "# Uncomment the next two lines to try, but be aware it may hang or error.\n",
    "# result_100: int = fib(100)\n",
    "# result_100"
   ]
  },
  {
   "cell_type": "code",
   "execution_count": null,
   "id": "266c988a",
   "metadata": {},
   "outputs": [],
   "source": [
    "# Import all server functions and types from server.py\n",
    "from server import *"
   ]
  },
  {
   "cell_type": "code",
   "execution_count": null,
   "id": "c499aab0",
   "metadata": {},
   "outputs": [],
   "source": [
    "# Start the Fibonacci server (example, not recommended to run in a notebook)\n",
    "# In practice, run the server from the command line for proper concurrency and socket handling.\n",
    "# Example: python server.py 25000\n",
    "#\n",
    "# Uncomment the next line to try running the server here (notebook may hang):\n",
    "# fib_server((\"localhost\", 25000))"
   ]
  }
 ],
 "metadata": {
  "kernelspec": {
   "display_name": ".venv",
   "language": "python",
   "name": "python3"
  },
  "language_info": {
   "codemirror_mode": {
    "name": "ipython",
    "version": 3
   },
   "file_extension": ".py",
   "mimetype": "text/x-python",
   "name": "python",
   "nbconvert_exporter": "python",
   "pygments_lexer": "ipython3",
   "version": "3.11.9"
  }
 },
 "nbformat": 4,
 "nbformat_minor": 5
}
